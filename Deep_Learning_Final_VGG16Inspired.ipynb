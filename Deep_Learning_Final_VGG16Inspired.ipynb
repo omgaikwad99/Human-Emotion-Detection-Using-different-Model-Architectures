{
  "cells": [
    {
      "cell_type": "code",
      "execution_count": 1,
      "metadata": {
        "colab": {
          "base_uri": "https://localhost:8080/",
          "height": 90
        },
        "id": "Ug1_9hzYftj6",
        "outputId": "a82c25b3-c4f5-4069-8191-c0624660abfa"
      },
      "outputs": [
        {
          "data": {
            "text/html": [
              "\n",
              "     <input type=\"file\" id=\"files-198321ac-8ce4-4b98-8d13-781f3cc55a90\" name=\"files[]\" multiple disabled\n",
              "        style=\"border:none\" />\n",
              "     <output id=\"result-198321ac-8ce4-4b98-8d13-781f3cc55a90\">\n",
              "      Upload widget is only available when the cell has been executed in the\n",
              "      current browser session. Please rerun this cell to enable.\n",
              "      </output>\n",
              "      <script>// Copyright 2017 Google LLC\n",
              "//\n",
              "// Licensed under the Apache License, Version 2.0 (the \"License\");\n",
              "// you may not use this file except in compliance with the License.\n",
              "// You may obtain a copy of the License at\n",
              "//\n",
              "//      http://www.apache.org/licenses/LICENSE-2.0\n",
              "//\n",
              "// Unless required by applicable law or agreed to in writing, software\n",
              "// distributed under the License is distributed on an \"AS IS\" BASIS,\n",
              "// WITHOUT WARRANTIES OR CONDITIONS OF ANY KIND, either express or implied.\n",
              "// See the License for the specific language governing permissions and\n",
              "// limitations under the License.\n",
              "\n",
              "/**\n",
              " * @fileoverview Helpers for google.colab Python module.\n",
              " */\n",
              "(function(scope) {\n",
              "function span(text, styleAttributes = {}) {\n",
              "  const element = document.createElement('span');\n",
              "  element.textContent = text;\n",
              "  for (const key of Object.keys(styleAttributes)) {\n",
              "    element.style[key] = styleAttributes[key];\n",
              "  }\n",
              "  return element;\n",
              "}\n",
              "\n",
              "// Max number of bytes which will be uploaded at a time.\n",
              "const MAX_PAYLOAD_SIZE = 100 * 1024;\n",
              "\n",
              "function _uploadFiles(inputId, outputId) {\n",
              "  const steps = uploadFilesStep(inputId, outputId);\n",
              "  const outputElement = document.getElementById(outputId);\n",
              "  // Cache steps on the outputElement to make it available for the next call\n",
              "  // to uploadFilesContinue from Python.\n",
              "  outputElement.steps = steps;\n",
              "\n",
              "  return _uploadFilesContinue(outputId);\n",
              "}\n",
              "\n",
              "// This is roughly an async generator (not supported in the browser yet),\n",
              "// where there are multiple asynchronous steps and the Python side is going\n",
              "// to poll for completion of each step.\n",
              "// This uses a Promise to block the python side on completion of each step,\n",
              "// then passes the result of the previous step as the input to the next step.\n",
              "function _uploadFilesContinue(outputId) {\n",
              "  const outputElement = document.getElementById(outputId);\n",
              "  const steps = outputElement.steps;\n",
              "\n",
              "  const next = steps.next(outputElement.lastPromiseValue);\n",
              "  return Promise.resolve(next.value.promise).then((value) => {\n",
              "    // Cache the last promise value to make it available to the next\n",
              "    // step of the generator.\n",
              "    outputElement.lastPromiseValue = value;\n",
              "    return next.value.response;\n",
              "  });\n",
              "}\n",
              "\n",
              "/**\n",
              " * Generator function which is called between each async step of the upload\n",
              " * process.\n",
              " * @param {string} inputId Element ID of the input file picker element.\n",
              " * @param {string} outputId Element ID of the output display.\n",
              " * @return {!Iterable<!Object>} Iterable of next steps.\n",
              " */\n",
              "function* uploadFilesStep(inputId, outputId) {\n",
              "  const inputElement = document.getElementById(inputId);\n",
              "  inputElement.disabled = false;\n",
              "\n",
              "  const outputElement = document.getElementById(outputId);\n",
              "  outputElement.innerHTML = '';\n",
              "\n",
              "  const pickedPromise = new Promise((resolve) => {\n",
              "    inputElement.addEventListener('change', (e) => {\n",
              "      resolve(e.target.files);\n",
              "    });\n",
              "  });\n",
              "\n",
              "  const cancel = document.createElement('button');\n",
              "  inputElement.parentElement.appendChild(cancel);\n",
              "  cancel.textContent = 'Cancel upload';\n",
              "  const cancelPromise = new Promise((resolve) => {\n",
              "    cancel.onclick = () => {\n",
              "      resolve(null);\n",
              "    };\n",
              "  });\n",
              "\n",
              "  // Wait for the user to pick the files.\n",
              "  const files = yield {\n",
              "    promise: Promise.race([pickedPromise, cancelPromise]),\n",
              "    response: {\n",
              "      action: 'starting',\n",
              "    }\n",
              "  };\n",
              "\n",
              "  cancel.remove();\n",
              "\n",
              "  // Disable the input element since further picks are not allowed.\n",
              "  inputElement.disabled = true;\n",
              "\n",
              "  if (!files) {\n",
              "    return {\n",
              "      response: {\n",
              "        action: 'complete',\n",
              "      }\n",
              "    };\n",
              "  }\n",
              "\n",
              "  for (const file of files) {\n",
              "    const li = document.createElement('li');\n",
              "    li.append(span(file.name, {fontWeight: 'bold'}));\n",
              "    li.append(span(\n",
              "        `(${file.type || 'n/a'}) - ${file.size} bytes, ` +\n",
              "        `last modified: ${\n",
              "            file.lastModifiedDate ? file.lastModifiedDate.toLocaleDateString() :\n",
              "                                    'n/a'} - `));\n",
              "    const percent = span('0% done');\n",
              "    li.appendChild(percent);\n",
              "\n",
              "    outputElement.appendChild(li);\n",
              "\n",
              "    const fileDataPromise = new Promise((resolve) => {\n",
              "      const reader = new FileReader();\n",
              "      reader.onload = (e) => {\n",
              "        resolve(e.target.result);\n",
              "      };\n",
              "      reader.readAsArrayBuffer(file);\n",
              "    });\n",
              "    // Wait for the data to be ready.\n",
              "    let fileData = yield {\n",
              "      promise: fileDataPromise,\n",
              "      response: {\n",
              "        action: 'continue',\n",
              "      }\n",
              "    };\n",
              "\n",
              "    // Use a chunked sending to avoid message size limits. See b/62115660.\n",
              "    let position = 0;\n",
              "    do {\n",
              "      const length = Math.min(fileData.byteLength - position, MAX_PAYLOAD_SIZE);\n",
              "      const chunk = new Uint8Array(fileData, position, length);\n",
              "      position += length;\n",
              "\n",
              "      const base64 = btoa(String.fromCharCode.apply(null, chunk));\n",
              "      yield {\n",
              "        response: {\n",
              "          action: 'append',\n",
              "          file: file.name,\n",
              "          data: base64,\n",
              "        },\n",
              "      };\n",
              "\n",
              "      let percentDone = fileData.byteLength === 0 ?\n",
              "          100 :\n",
              "          Math.round((position / fileData.byteLength) * 100);\n",
              "      percent.textContent = `${percentDone}% done`;\n",
              "\n",
              "    } while (position < fileData.byteLength);\n",
              "  }\n",
              "\n",
              "  // All done.\n",
              "  yield {\n",
              "    response: {\n",
              "      action: 'complete',\n",
              "    }\n",
              "  };\n",
              "}\n",
              "\n",
              "scope.google = scope.google || {};\n",
              "scope.google.colab = scope.google.colab || {};\n",
              "scope.google.colab._files = {\n",
              "  _uploadFiles,\n",
              "  _uploadFilesContinue,\n",
              "};\n",
              "})(self);\n",
              "</script> "
            ],
            "text/plain": [
              "<IPython.core.display.HTML object>"
            ]
          },
          "metadata": {},
          "output_type": "display_data"
        },
        {
          "name": "stdout",
          "output_type": "stream",
          "text": [
            "Saving train.csv.zip to train.csv.zip\n"
          ]
        }
      ],
      "source": [
        "from google.colab import files\n",
        "\n",
        "# Upload a zip file containing data folders\n",
        "uploaded = files.upload()"
      ]
    },
    {
      "cell_type": "code",
      "execution_count": 2,
      "metadata": {
        "colab": {
          "base_uri": "https://localhost:8080/"
        },
        "id": "AD_W7Ks_kf7F",
        "outputId": "c31ac0cc-e47f-4a71-eb4d-dacb3a29df5d"
      },
      "outputs": [
        {
          "name": "stdout",
          "output_type": "stream",
          "text": [
            "Archive:  train.csv.zip\n",
            "  inflating: train.csv               \n"
          ]
        }
      ],
      "source": [
        "# Unzip data\n",
        "!unzip train.csv.zip train.csv"
      ]
    },
    {
      "cell_type": "code",
      "execution_count": 3,
      "metadata": {
        "colab": {
          "base_uri": "https://localhost:8080/"
        },
        "id": "TqY7oPa9ehnk",
        "outputId": "6e24d5b3-1734-42f5-cb77-b50768cbd80b"
      },
      "outputs": [
        {
          "name": "stdout",
          "output_type": "stream",
          "text": [
            "x_train shape: (28709, 48, 48)\n",
            "y_train shape: (28709,)\n"
          ]
        }
      ],
      "source": [
        "import csv\n",
        "import numpy\n",
        "\n",
        "# Initialize lists to store training images and labels\n",
        "images_list = []\n",
        "labels_list = []\n",
        "\n",
        "# Initialize a dictionary to count the occurrences of each category\n",
        "category_count = {}\n",
        "\n",
        "# Open the 'train.csv' file\n",
        "with open('train.csv') as train_file:\n",
        "\n",
        "    # Create a CSV reader\n",
        "    csv_reader = csv.reader(train_file)\n",
        "\n",
        "    # Skip the header row\n",
        "    next(csv_reader)\n",
        "\n",
        "    # Iterate through each row in the CSV file\n",
        "    for row in csv_reader:\n",
        "\n",
        "        # Extract pixel values from the row and convert them to a NumPy array\n",
        "        pixels_str = row[1]\n",
        "        pixels_list = [int(i) for i in pixels_str.split(' ')]\n",
        "        pixels_array = numpy.array(pixels_list, dtype='uint8')\n",
        "\n",
        "        # Reshape the 1D array to a 2D image (48x48 pixels)\n",
        "        image = pixels_array.reshape((48, 48))\n",
        "\n",
        "        # Append the image to the list\n",
        "        images_list.append(image)\n",
        "\n",
        "        # Extract label information\n",
        "        label_str = row[0]\n",
        "\n",
        "        # Calculate the count of occurrences for each category\n",
        "        count = 0\n",
        "        if label_str in category_count:\n",
        "            count = category_count[label_str] + 1\n",
        "        category_count[label_str] = count\n",
        "\n",
        "        # Convert the label string to an integer and append it to the labels list\n",
        "        label = int(label_str)\n",
        "        labels_list.append(label)\n",
        "\n",
        "# Convert the lists to NumPy arrays\n",
        "x_train = numpy.array(images_list)\n",
        "y_train = numpy.array(labels_list)\n",
        "\n",
        "# Display the shapes of the training data arrays\n",
        "print('x_train shape: {0}'.format(x_train.shape))\n",
        "print('y_train shape: {0}'.format(y_train.shape))\n"
      ]
    },
    {
      "cell_type": "code",
      "execution_count": 4,
      "metadata": {
        "colab": {
          "base_uri": "https://localhost:8080/",
          "height": 452
        },
        "id": "j_JQd-kukqG-",
        "outputId": "976f65a5-0e85-44fa-ead7-35238e0eefed"
      },
      "outputs": [
        {
          "data": {
            "image/png": "[encoded data removed]",
            "text/plain": [
              "<Figure size 640x480 with 1 Axes>"
            ]
          },
          "metadata": {},
          "output_type": "display_data"
        }
      ],
      "source": [
        "import matplotlib.pyplot as plt\n",
        "%matplotlib inline\n",
        "\n",
        "# Define categories and their positions for the bar chart\n",
        "emotion_categories = ('Angry', 'Disgust', 'Fear', 'Happy', 'Sad', 'Surprise', 'Neutral')\n",
        "y_positions = numpy.arange(len(emotion_categories))\n",
        "\n",
        "# Initialize a list to store category counts\n",
        "category_counts = []\n",
        "\n",
        "# Iterate through each label to get the counts\n",
        "for label in range(len(emotion_categories)):\n",
        "    label_str = str(label)\n",
        "    count = category_count[label_str]\n",
        "    category_counts.append(count)\n",
        "\n",
        "    # Display the count above each bar\n",
        "    plt.text(label - 0.25, count + 15, str(count))\n",
        "\n",
        "# Draw the histogram\n",
        "plt.bar(y_positions, category_counts, align='center', alpha=0.5)\n",
        "plt.xticks(y_positions, emotion_categories)\n",
        "plt.ylabel('Count')\n",
        "plt.title('FER2013 Dataset Emotion Categories')\n",
        "\n",
        "plt.show()\n"
      ]
    },
    {
      "cell_type": "code",
      "execution_count": 7,
      "metadata": {
        "colab": {
          "base_uri": "https://localhost:8080/",
          "height": 466
        },
        "id": "yBtU0B17ksgY",
        "outputId": "f3d00e03-7a98-4521-cd9d-cebbb7ff6f27"
      },
      "outputs": [
        {
          "name": "stdout",
          "output_type": "stream",
          "text": [
            "Sample Label: 0\n"
          ]
        },
        {
          "data": {
            "text/plain": [
              "<matplotlib.image.AxesImage at 0x78c7b9545660>"
            ]
          },
          "execution_count": 7,
          "metadata": {},
          "output_type": "execute_result"
        },
        {
          "data": {
            "image/png": "[encoded data removed]",
            "text/plain": [
              "<Figure size 640x480 with 1 Axes>"
            ]
          },
          "metadata": {},
          "output_type": "display_data"
        }
      ],
      "source": [
        "sample_image = x_train[10]\n",
        "sample_label = y_train[10]\n",
        "\n",
        "print('Sample Label: ' + str(sample_label))\n",
        "plt.imshow(sample_image, cmap='gray')\n"
      ]
    },
    {
      "cell_type": "code",
      "execution_count": 8,
      "metadata": {
        "colab": {
          "base_uri": "https://localhost:8080/"
        },
        "id": "A54Y3ZH6kumO",
        "outputId": "52df17f0-8ca3-484f-c14d-c8a6fa25937e"
      },
      "outputs": [
        {
          "name": "stdout",
          "output_type": "stream",
          "text": [
            "(22967, 48, 48, 1)\n",
            "(5742, 48, 48, 1)\n"
          ]
        }
      ],
      "source": [
        "from sklearn.model_selection import train_test_split\n",
        "\n",
        "# Split the dataset into training and testing sets\n",
        "x_train_split, x_test_split, y_train_split, y_test_split = train_test_split(x_train, y_train, test_size=0.2)\n",
        "\n",
        "# Normalize pixel values to the range [0, 1]\n",
        "x_train_split, x_test_split = x_train_split / 255.0, x_test_split / 255.0\n",
        "\n",
        "# Reshape the data for compatibility with the convolutional neural network (CNN)\n",
        "x_train_split = x_train_split.reshape(len(x_train_split), 48, 48, 1)\n",
        "x_test_split = x_test_split.reshape(len(x_test_split), 48, 48, 1)\n",
        "\n",
        "# Display the shapes of the training and testing sets\n",
        "print(x_train_split.shape)\n",
        "print(x_test_split.shape)\n"
      ]
    },
    {
      "cell_type": "code",
      "execution_count": 9,
      "metadata": {
        "colab": {
          "base_uri": "https://localhost:8080/"
        },
        "id": "o0Vmc43UkyZd",
        "outputId": "2f0850c1-2d08-4242-d840-1c25710f8009"
      },
      "outputs": [
        {
          "name": "stdout",
          "output_type": "stream",
          "text": [
            "Model: \"sequential\"\n",
            "_________________________________________________________________\n",
            " Layer (type)                Output Shape              Param #   \n",
            "=================================================================\n",
            " conv2d (Conv2D)             (None, 46, 46, 64)        640       \n",
            "                                                                 \n",
            " batch_normalization (Batch  (None, 46, 46, 64)        256       \n",
            " Normalization)                                                  \n",
            "                                                                 \n",
            " conv2d_1 (Conv2D)           (None, 46, 46, 64)        36928     \n",
            "                                                                 \n",
            " batch_normalization_1 (Bat  (None, 46, 46, 64)        256       \n",
            " chNormalization)                                                \n",
            "                                                                 \n",
            " max_pooling2d (MaxPooling2  (None, 22, 22, 64)        0         \n",
            " D)                                                              \n",
            "                                                                 \n",
            " dropout (Dropout)           (None, 22, 22, 64)        0         \n",
            "                                                                 \n",
            " conv2d_2 (Conv2D)           (None, 22, 22, 128)       73856     \n",
            "                                                                 \n",
            " batch_normalization_2 (Bat  (None, 22, 22, 128)       512       \n",
            " chNormalization)                                                \n",
            "                                                                 \n",
            " conv2d_3 (Conv2D)           (None, 22, 22, 128)       147584    \n",
            "                                                                 \n",
            " batch_normalization_3 (Bat  (None, 22, 22, 128)       512       \n",
            " chNormalization)                                                \n",
            "                                                                 \n",
            " max_pooling2d_1 (MaxPoolin  (None, 10, 10, 128)       0         \n",
            " g2D)                                                            \n",
            "                                                                 \n",
            " dropout_1 (Dropout)         (None, 10, 10, 128)       0         \n",
            "                                                                 \n",
            " conv2d_4 (Conv2D)           (None, 10, 10, 256)       295168    \n",
            "                                                                 \n",
            " batch_normalization_4 (Bat  (None, 10, 10, 256)       1024      \n",
            " chNormalization)                                                \n",
            "                                                                 \n",
            " conv2d_5 (Conv2D)           (None, 10, 10, 256)       590080    \n",
            "                                                                 \n",
            " batch_normalization_5 (Bat  (None, 10, 10, 256)       1024      \n",
            " chNormalization)                                                \n",
            "                                                                 \n",
            " max_pooling2d_2 (MaxPoolin  (None, 4, 4, 256)         0         \n",
            " g2D)                                                            \n",
            "                                                                 \n",
            " dropout_2 (Dropout)         (None, 4, 4, 256)         0         \n",
            "                                                                 \n",
            " conv2d_6 (Conv2D)           (None, 4, 4, 512)         1180160   \n",
            "                                                                 \n",
            " batch_normalization_6 (Bat  (None, 4, 4, 512)         2048      \n",
            " chNormalization)                                                \n",
            "                                                                 \n",
            " conv2d_7 (Conv2D)           (None, 4, 4, 512)         2359808   \n",
            "                                                                 \n",
            " batch_normalization_7 (Bat  (None, 4, 4, 512)         2048      \n",
            " chNormalization)                                                \n",
            "                                                                 \n",
            " max_pooling2d_3 (MaxPoolin  (None, 1, 1, 512)         0         \n",
            " g2D)                                                            \n",
            "                                                                 \n",
            " dropout_3 (Dropout)         (None, 1, 1, 512)         0         \n",
            "                                                                 \n",
            " flatten (Flatten)           (None, 512)               0         \n",
            "                                                                 \n",
            " dense (Dense)               (None, 512)               262656    \n",
            "                                                                 \n",
            " dropout_4 (Dropout)         (None, 512)               0         \n",
            "                                                                 \n",
            " dense_1 (Dense)             (None, 256)               131328    \n",
            "                                                                 \n",
            " dropout_5 (Dropout)         (None, 256)               0         \n",
            "                                                                 \n",
            " dense_2 (Dense)             (None, 64)                16448     \n",
            "                                                                 \n",
            " dropout_6 (Dropout)         (None, 64)                0         \n",
            "                                                                 \n",
            " dense_3 (Dense)             (None, 7)                 455       \n",
            "                                                                 \n",
            "=================================================================\n",
            "Total params: 5102791 (19.47 MB)\n",
            "Trainable params: 5098951 (19.45 MB)\n",
            "Non-trainable params: 3840 (15.00 KB)\n",
            "_________________________________________________________________\n"
          ]
        }
      ],
      "source": [
        "import tensorflow as tf\n",
        "from tensorflow.keras.models import Sequential\n",
        "from tensorflow.keras.layers import Conv2D, BatchNormalization, MaxPool2D, Dropout, Flatten, Dense\n",
        "from tensorflow.keras.optimizers import Adam\n",
        "from tensorflow.keras.callbacks import EarlyStopping, ReduceLROnPlateau\n",
        "from tensorflow.keras import Model, Input\n",
        "from tensorflow.keras.preprocessing.image import ImageDataGenerator\n",
        "\n",
        "# Create a Sequential model\n",
        "custom_model = Sequential()\n",
        "\n",
        "# 1st convolution layer\n",
        "custom_model.add(Conv2D(64, input_shape=(48, 48, 1), kernel_size=(3, 3), activation='relu'))\n",
        "custom_model.add(BatchNormalization())\n",
        "custom_model.add(Conv2D(64, padding='same', kernel_size=(3, 3), activation='relu'))\n",
        "custom_model.add(BatchNormalization())\n",
        "custom_model.add(MaxPool2D(pool_size=(3, 3), strides=(2, 2)))\n",
        "custom_model.add(Dropout(0.3))\n",
        "\n",
        "# 2nd convolution layer\n",
        "custom_model.add(Conv2D(128, padding='same', kernel_size=(3, 3), activation='relu'))\n",
        "custom_model.add(BatchNormalization())\n",
        "custom_model.add(Conv2D(128, padding='same', kernel_size=(3, 3), activation='relu'))\n",
        "custom_model.add(BatchNormalization())\n",
        "custom_model.add(MaxPool2D(pool_size=(3, 3), strides=(2, 2)))\n",
        "custom_model.add(Dropout(0.3))\n",
        "\n",
        "# 3rd convolution layer\n",
        "custom_model.add(Conv2D(256, padding='same', kernel_size=(3, 3), activation='relu'))\n",
        "custom_model.add(BatchNormalization())\n",
        "custom_model.add(Conv2D(256, padding='same', kernel_size=(3, 3), activation='relu'))\n",
        "custom_model.add(BatchNormalization())\n",
        "custom_model.add(MaxPool2D(pool_size=(3, 3), strides=(2, 2)))\n",
        "custom_model.add(Dropout(0.3))\n",
        "\n",
        "# 4th convolution layer\n",
        "custom_model.add(Conv2D(512, padding='same', kernel_size=(3, 3), activation='relu'))\n",
        "custom_model.add(BatchNormalization())\n",
        "custom_model.add(Conv2D(512, padding='same', kernel_size=(3, 3), activation='relu'))\n",
        "custom_model.add(BatchNormalization())\n",
        "custom_model.add(MaxPool2D(pool_size=(3, 3), strides=(2, 2)))\n",
        "custom_model.add(Dropout(0.3))\n",
        "\n",
        "# Fully connected layer\n",
        "custom_model.add(Flatten())\n",
        "custom_model.add(Dense(512, activation='relu'))\n",
        "custom_model.add(Dropout(0.3))\n",
        "custom_model.add(Dense(256, activation='relu'))\n",
        "custom_model.add(Dropout(0.3))\n",
        "custom_model.add(Dense(64, activation='relu'))\n",
        "custom_model.add(Dropout(0.3))\n",
        "\n",
        "# Output layer with 7 neurons for 7 categories\n",
        "custom_model.add(Dense(7, activation='softmax'))\n",
        "\n",
        "# Compile the model with Adam optimizer and sparse categorical crossentropy loss\n",
        "custom_optimizer = Adam(learning_rate=0.001)\n",
        "custom_model.compile(optimizer=custom_optimizer,\n",
        "                     loss='sparse_categorical_crossentropy',\n",
        "                     metrics=['accuracy'])\n",
        "\n",
        "# Display model summary\n",
        "custom_model.summary()\n"
      ]
    },
    {
      "cell_type": "code",
      "execution_count": 10,
      "metadata": {
        "colab": {
          "base_uri": "https://localhost:8080/"
        },
        "id": "PDUR_4iCk1Ae",
        "outputId": "a5400aec-444d-4a75-df3f-e5952f7bbd94"
      },
      "outputs": [
        {
          "name": "stdout",
          "output_type": "stream",
          "text": [
            "Epoch 1/100\n",
            "359/359 [==============================] - 39s 57ms/step - loss: 1.8820 - accuracy: 0.2323 - val_loss: 1.8179 - val_accuracy: 0.2452 - lr: 0.0010\n",
            "Epoch 2/100\n",
            "359/359 [==============================] - 19s 52ms/step - loss: 1.6867 - accuracy: 0.3203 - val_loss: 2.1020 - val_accuracy: 0.2720 - lr: 0.0010\n",
            "Epoch 3/100\n",
            "359/359 [==============================] - 19s 52ms/step - loss: 1.5175 - accuracy: 0.3986 - val_loss: 1.6830 - val_accuracy: 0.3288 - lr: 0.0010\n",
            "Epoch 4/100\n",
            "359/359 [==============================] - 19s 52ms/step - loss: 1.3971 - accuracy: 0.4626 - val_loss: 1.3672 - val_accuracy: 0.4697 - lr: 0.0010\n",
            "Epoch 5/100\n",
            "359/359 [==============================] - 18s 51ms/step - loss: 1.3222 - accuracy: 0.4990 - val_loss: 1.3489 - val_accuracy: 0.4732 - lr: 0.0010\n",
            "Epoch 6/100\n",
            "359/359 [==============================] - 19s 53ms/step - loss: 1.2592 - accuracy: 0.5224 - val_loss: 1.2445 - val_accuracy: 0.5190 - lr: 0.0010\n",
            "Epoch 7/100\n",
            "359/359 [==============================] - 19s 53ms/step - loss: 1.2204 - accuracy: 0.5489 - val_loss: 1.3187 - val_accuracy: 0.4720 - lr: 0.0010\n",
            "Epoch 8/100\n",
            "359/359 [==============================] - 19s 53ms/step - loss: 1.1813 - accuracy: 0.5618 - val_loss: 1.1913 - val_accuracy: 0.5481 - lr: 0.0010\n",
            "Epoch 9/100\n",
            "359/359 [==============================] - 19s 52ms/step - loss: 1.1379 - accuracy: 0.5815 - val_loss: 1.1860 - val_accuracy: 0.5427 - lr: 0.0010\n",
            "Epoch 10/100\n",
            "359/359 [==============================] - 19s 53ms/step - loss: 1.1093 - accuracy: 0.5918 - val_loss: 1.2605 - val_accuracy: 0.5592 - lr: 0.0010\n",
            "Epoch 11/100\n",
            "359/359 [==============================] - 19s 53ms/step - loss: 1.0696 - accuracy: 0.6077 - val_loss: 1.2322 - val_accuracy: 0.5575 - lr: 0.0010\n",
            "Epoch 12/100\n",
            "359/359 [==============================] - 19s 53ms/step - loss: 1.0270 - accuracy: 0.6253 - val_loss: 1.1520 - val_accuracy: 0.5714 - lr: 0.0010\n",
            "Epoch 13/100\n",
            "359/359 [==============================] - 19s 54ms/step - loss: 0.9992 - accuracy: 0.6360 - val_loss: 1.1329 - val_accuracy: 0.5765 - lr: 0.0010\n",
            "Epoch 14/100\n",
            "359/359 [==============================] - 19s 54ms/step - loss: 0.9592 - accuracy: 0.6493 - val_loss: 1.1406 - val_accuracy: 0.5972 - lr: 0.0010\n",
            "Epoch 15/100\n",
            "359/359 [==============================] - 19s 53ms/step - loss: 0.9181 - accuracy: 0.6661 - val_loss: 1.1236 - val_accuracy: 0.6045 - lr: 0.0010\n",
            "Epoch 16/100\n",
            "359/359 [==============================] - 19s 53ms/step - loss: 0.8798 - accuracy: 0.6791 - val_loss: 1.0676 - val_accuracy: 0.6054 - lr: 0.0010\n",
            "Epoch 17/100\n",
            "359/359 [==============================] - 20s 55ms/step - loss: 0.8512 - accuracy: 0.6922 - val_loss: 1.2276 - val_accuracy: 0.5775 - lr: 0.0010\n",
            "Epoch 18/100\n",
            "359/359 [==============================] - 19s 53ms/step - loss: 0.8075 - accuracy: 0.7095 - val_loss: 1.1475 - val_accuracy: 0.5975 - lr: 0.0010\n",
            "Epoch 19/100\n",
            "359/359 [==============================] - 19s 53ms/step - loss: 0.7754 - accuracy: 0.7224 - val_loss: 1.1119 - val_accuracy: 0.6134 - lr: 0.0010\n",
            "Epoch 20/100\n",
            "359/359 [==============================] - 19s 54ms/step - loss: 0.7426 - accuracy: 0.7356 - val_loss: 1.2737 - val_accuracy: 0.5949 - lr: 0.0010\n",
            "Epoch 21/100\n",
            "359/359 [==============================] - 19s 53ms/step - loss: 0.7065 - accuracy: 0.7527 - val_loss: 1.1356 - val_accuracy: 0.6167 - lr: 0.0010\n",
            "Epoch 22/100\n",
            "359/359 [==============================] - 20s 55ms/step - loss: 0.6366 - accuracy: 0.7742 - val_loss: 1.2307 - val_accuracy: 0.6221 - lr: 9.0000e-04\n",
            "Epoch 23/100\n",
            "359/359 [==============================] - 19s 53ms/step - loss: 0.5996 - accuracy: 0.7865 - val_loss: 1.3013 - val_accuracy: 0.6106 - lr: 9.0000e-04\n",
            "Epoch 24/100\n",
            "359/359 [==============================] - 19s 53ms/step - loss: 0.5638 - accuracy: 0.8027 - val_loss: 1.4292 - val_accuracy: 0.6247 - lr: 9.0000e-04\n",
            "Epoch 25/100\n",
            "359/359 [==============================] - 20s 54ms/step - loss: 0.5429 - accuracy: 0.8103 - val_loss: 1.3344 - val_accuracy: 0.6000 - lr: 9.0000e-04\n",
            "Epoch 26/100\n",
            "359/359 [==============================] - 20s 55ms/step - loss: 0.4993 - accuracy: 0.8292 - val_loss: 1.3331 - val_accuracy: 0.6385 - lr: 9.0000e-04\n",
            "Epoch 27/100\n",
            "359/359 [==============================] - 19s 54ms/step - loss: 0.4499 - accuracy: 0.8443 - val_loss: 1.4038 - val_accuracy: 0.6344 - lr: 8.1000e-04\n",
            "Epoch 28/100\n",
            "359/359 [==============================] - 19s 53ms/step - loss: 0.4079 - accuracy: 0.8591 - val_loss: 1.3933 - val_accuracy: 0.6400 - lr: 8.1000e-04\n",
            "Epoch 29/100\n",
            "359/359 [==============================] - 19s 54ms/step - loss: 0.3802 - accuracy: 0.8668 - val_loss: 1.4607 - val_accuracy: 0.6350 - lr: 8.1000e-04\n",
            "Epoch 30/100\n",
            "359/359 [==============================] - 19s 54ms/step - loss: 0.3704 - accuracy: 0.8747 - val_loss: 1.6221 - val_accuracy: 0.5914 - lr: 8.1000e-04\n",
            "Epoch 31/100\n",
            "359/359 [==============================] - 19s 52ms/step - loss: 0.3463 - accuracy: 0.8839 - val_loss: 1.6452 - val_accuracy: 0.6263 - lr: 8.1000e-04\n",
            "Epoch 32/100\n",
            "359/359 [==============================] - 19s 54ms/step - loss: 0.3283 - accuracy: 0.8924 - val_loss: 1.4466 - val_accuracy: 0.6494 - lr: 7.2900e-04\n",
            "Epoch 33/100\n",
            "359/359 [==============================] - 19s 53ms/step - loss: 0.2913 - accuracy: 0.9009 - val_loss: 1.6343 - val_accuracy: 0.6445 - lr: 7.2900e-04\n",
            "Epoch 34/100\n",
            "359/359 [==============================] - 19s 53ms/step - loss: 0.2756 - accuracy: 0.9075 - val_loss: 1.5718 - val_accuracy: 0.6472 - lr: 7.2900e-04\n",
            "Epoch 35/100\n",
            "359/359 [==============================] - 19s 54ms/step - loss: 0.2609 - accuracy: 0.9130 - val_loss: 1.8069 - val_accuracy: 0.6392 - lr: 7.2900e-04\n",
            "Epoch 36/100\n",
            "359/359 [==============================] - 19s 53ms/step - loss: 0.2442 - accuracy: 0.9205 - val_loss: 1.6900 - val_accuracy: 0.6334 - lr: 7.2900e-04\n",
            "Epoch 37/100\n",
            "359/359 [==============================] - 19s 54ms/step - loss: 0.2272 - accuracy: 0.9266 - val_loss: 1.6340 - val_accuracy: 0.6513 - lr: 6.5610e-04\n",
            "Epoch 38/100\n",
            "359/359 [==============================] - 19s 54ms/step - loss: 0.2141 - accuracy: 0.9316 - val_loss: 1.7809 - val_accuracy: 0.6461 - lr: 6.5610e-04\n",
            "Epoch 39/100\n",
            "359/359 [==============================] - 19s 53ms/step - loss: 0.1990 - accuracy: 0.9362 - val_loss: 1.8687 - val_accuracy: 0.6513 - lr: 6.5610e-04\n",
            "Epoch 40/100\n",
            "359/359 [==============================] - 20s 55ms/step - loss: 0.1893 - accuracy: 0.9393 - val_loss: 1.8044 - val_accuracy: 0.6378 - lr: 6.5610e-04\n",
            "Epoch 41/100\n",
            "359/359 [==============================] - 19s 54ms/step - loss: 0.1823 - accuracy: 0.9403 - val_loss: 1.8252 - val_accuracy: 0.6425 - lr: 6.5610e-04\n",
            "Epoch 42/100\n",
            "359/359 [==============================] - 19s 53ms/step - loss: 0.1743 - accuracy: 0.9434 - val_loss: 2.0340 - val_accuracy: 0.6468 - lr: 5.9049e-04\n",
            "Epoch 43/100\n",
            "359/359 [==============================] - 19s 54ms/step - loss: 0.1530 - accuracy: 0.9508 - val_loss: 1.9757 - val_accuracy: 0.6452 - lr: 5.9049e-04\n",
            "Epoch 44/100\n",
            "359/359 [==============================] - 19s 53ms/step - loss: 0.1543 - accuracy: 0.9497 - val_loss: 1.9514 - val_accuracy: 0.6440 - lr: 5.9049e-04\n",
            "Epoch 45/100\n",
            "359/359 [==============================] - 19s 54ms/step - loss: 0.1437 - accuracy: 0.9538 - val_loss: 2.0574 - val_accuracy: 0.6447 - lr: 5.9049e-04\n",
            "Epoch 46/100\n",
            "359/359 [==============================] - 20s 55ms/step - loss: 0.1366 - accuracy: 0.9558 - val_loss: 2.1400 - val_accuracy: 0.6414 - lr: 5.9049e-04\n",
            "Epoch 47/100\n",
            "359/359 [==============================] - 19s 54ms/step - loss: 0.1275 - accuracy: 0.9592 - val_loss: 2.0598 - val_accuracy: 0.6477 - lr: 5.3144e-04\n"
          ]
        }
      ],
      "source": [
        "# Callbacks\n",
        "custom_early_stopping = EarlyStopping(monitor='val_accuracy', patience=10)\n",
        "custom_reduce_learning_rate = ReduceLROnPlateau(monitor='val_loss', factor=0.9, patience=5)\n",
        "\n",
        "# Train the model\n",
        "history = custom_model.fit(x_train_split,\n",
        "                                    y_train_split,\n",
        "                                    batch_size=64,\n",
        "                                    epochs=100,\n",
        "                                    validation_data=(x_test_split, y_test_split),\n",
        "                                    callbacks=[custom_early_stopping, custom_reduce_learning_rate])\n"
      ]
    },
    {
      "cell_type": "code",
      "execution_count": 11,
      "metadata": {
        "colab": {
          "base_uri": "https://localhost:8080/",
          "height": 472
        },
        "id": "yOMO4o6Ik7e_",
        "outputId": "55dcee5d-c3d7-4d27-f9c4-4e1a1e911839"
      },
      "outputs": [
        {
          "data": {
            "image/png": "[encoded data removed]",
            "text/plain": [
              "<Figure size 640x480 with 1 Axes>"
            ]
          },
          "metadata": {},
          "output_type": "display_data"
        }
      ],
      "source": [
        "# Show accuracy diagram\n",
        "plt.title('Model Accuracy')\n",
        "plt.plot(history.history['accuracy'], label='accuracy')\n",
        "plt.plot(history.history['val_accuracy'], label='val_accuracy')\n",
        "plt.xlabel('Epoch')\n",
        "plt.ylabel('Accuracy')\n",
        "plt.legend(['Accuracy', 'Validation Accuracy'])\n",
        "plt.show()"
      ]
    },
    {
      "cell_type": "code",
      "execution_count": 12,
      "metadata": {
        "colab": {
          "base_uri": "https://localhost:8080/"
        },
        "id": "91dJ1uE5lEcy",
        "outputId": "f2435905-cb1d-4673-bd44-e4b9441625ae"
      },
      "outputs": [
        {
          "name": "stdout",
          "output_type": "stream",
          "text": [
            "180/180 [==============================] - 2s 9ms/step - loss: 2.0598 - accuracy: 0.6477\n",
            "Accuracy before improvement: 0.6476837396621704\n"
          ]
        }
      ],
      "source": [
        "# Evaluate the model before improvement\n",
        "_, accuracy_before_improvement = custom_model.evaluate(x_test_split, y_test_split)\n",
        "print('Accuracy before improvement: {}'.format(accuracy_before_improvement))\n"
      ]
    },
    {
      "cell_type": "code",
      "execution_count": 13,
      "metadata": {
        "colab": {
          "base_uri": "https://localhost:8080/"
        },
        "id": "CtK86d0GlFlv",
        "outputId": "4f2f55f1-1c21-41e6-82ed-d88ad3f9ce49"
      },
      "outputs": [
        {
          "name": "stdout",
          "output_type": "stream",
          "text": [
            "180/180 [==============================] - 2s 8ms/step\n",
            "(2023, 48, 48, 1)\n",
            "(2023,)\n"
          ]
        }
      ],
      "source": [
        "# Generate hard data\n",
        "misclassified_images = []\n",
        "misclassified_labels = []\n",
        "\n",
        "# Make predictions using the custom model\n",
        "predictions_custom = custom_model.predict(x_test_split)\n",
        "\n",
        "# Iterate through predictions and true labels\n",
        "for i, predicted_values in enumerate(predictions_custom):\n",
        "    predicted_label = numpy.argmax(predicted_values)\n",
        "    true_label = y_test_split[i]\n",
        "\n",
        "    # Check if the prediction is incorrect\n",
        "    if predicted_label != true_label:\n",
        "        # If predicted incorrectly, append to arrays\n",
        "        misclassified_image = x_test_split[i]\n",
        "        misclassified_images.append(misclassified_image)\n",
        "        misclassified_labels.append(true_label)\n",
        "\n",
        "# Convert the lists to NumPy arrays\n",
        "x_misclassified = numpy.array(misclassified_images)\n",
        "y_misclassified = numpy.array(misclassified_labels)\n",
        "\n",
        "# Display the shapes of the misclassified data\n",
        "print(x_misclassified.shape)\n",
        "print(y_misclassified.shape)\n"
      ]
    },
    {
      "cell_type": "code",
      "execution_count": 15,
      "metadata": {
        "colab": {
          "base_uri": "https://localhost:8080/"
        },
        "id": "QDJafLCzlHKT",
        "outputId": "721cce48-8c09-485b-fa75-13fd6553fe0e"
      },
      "outputs": [
        {
          "name": "stdout",
          "output_type": "stream",
          "text": [
            "Epoch 1/50\n",
            "26/26 [==============================] - 2s 64ms/step - loss: 1.5493 - accuracy: 0.3337 - val_loss: 1.5982 - val_accuracy: 0.2691 - lr: 5.3144e-04\n",
            "Epoch 2/50\n",
            "26/26 [==============================] - 1s 57ms/step - loss: 1.4825 - accuracy: 0.3572 - val_loss: 1.5312 - val_accuracy: 0.3012 - lr: 5.3144e-04\n",
            "Epoch 3/50\n",
            "26/26 [==============================] - 1s 50ms/step - loss: 1.4027 - accuracy: 0.3906 - val_loss: 1.4622 - val_accuracy: 0.3407 - lr: 5.3144e-04\n",
            "Epoch 4/50\n",
            "26/26 [==============================] - 1s 51ms/step - loss: 1.3386 - accuracy: 0.3900 - val_loss: 1.4129 - val_accuracy: 0.3975 - lr: 5.3144e-04\n",
            "Epoch 5/50\n",
            "26/26 [==============================] - 1s 58ms/step - loss: 1.2947 - accuracy: 0.4351 - val_loss: 1.3623 - val_accuracy: 0.4148 - lr: 5.3144e-04\n",
            "Epoch 6/50\n",
            "26/26 [==============================] - 1s 55ms/step - loss: 1.2539 - accuracy: 0.4487 - val_loss: 1.2942 - val_accuracy: 0.4469 - lr: 5.3144e-04\n",
            "Epoch 7/50\n",
            "26/26 [==============================] - 1s 51ms/step - loss: 1.1780 - accuracy: 0.4815 - val_loss: 1.2693 - val_accuracy: 0.4617 - lr: 5.3144e-04\n",
            "Epoch 8/50\n",
            "26/26 [==============================] - 1s 53ms/step - loss: 1.1165 - accuracy: 0.4994 - val_loss: 1.2328 - val_accuracy: 0.5136 - lr: 5.3144e-04\n",
            "Epoch 9/50\n",
            "26/26 [==============================] - 1s 53ms/step - loss: 1.0383 - accuracy: 0.5383 - val_loss: 1.1951 - val_accuracy: 0.5407 - lr: 5.3144e-04\n",
            "Epoch 10/50\n",
            "26/26 [==============================] - 1s 53ms/step - loss: 0.9484 - accuracy: 0.5871 - val_loss: 1.1895 - val_accuracy: 0.5630 - lr: 5.3144e-04\n",
            "Epoch 11/50\n",
            "26/26 [==============================] - 1s 51ms/step - loss: 0.8818 - accuracy: 0.6199 - val_loss: 1.1458 - val_accuracy: 0.6272 - lr: 5.3144e-04\n",
            "Epoch 12/50\n",
            "26/26 [==============================] - 1s 51ms/step - loss: 0.8250 - accuracy: 0.6434 - val_loss: 1.1267 - val_accuracy: 0.6321 - lr: 5.3144e-04\n",
            "Epoch 13/50\n",
            "26/26 [==============================] - 1s 51ms/step - loss: 0.8180 - accuracy: 0.6557 - val_loss: 1.0443 - val_accuracy: 0.6840 - lr: 5.3144e-04\n",
            "Epoch 14/50\n",
            "26/26 [==============================] - 1s 55ms/step - loss: 0.7112 - accuracy: 0.6873 - val_loss: 1.0895 - val_accuracy: 0.7062 - lr: 5.3144e-04\n",
            "Epoch 15/50\n",
            "26/26 [==============================] - 1s 58ms/step - loss: 0.6816 - accuracy: 0.7318 - val_loss: 0.9914 - val_accuracy: 0.7605 - lr: 5.3144e-04\n",
            "Epoch 16/50\n",
            "26/26 [==============================] - 1s 55ms/step - loss: 0.5835 - accuracy: 0.7701 - val_loss: 0.9908 - val_accuracy: 0.7877 - lr: 5.3144e-04\n",
            "Epoch 17/50\n",
            "26/26 [==============================] - 1s 56ms/step - loss: 0.5210 - accuracy: 0.7886 - val_loss: 0.9968 - val_accuracy: 0.7877 - lr: 5.3144e-04\n",
            "Epoch 18/50\n",
            "26/26 [==============================] - 1s 53ms/step - loss: 0.4717 - accuracy: 0.8239 - val_loss: 1.0244 - val_accuracy: 0.7975 - lr: 5.3144e-04\n",
            "Epoch 19/50\n",
            "26/26 [==============================] - 1s 50ms/step - loss: 0.4070 - accuracy: 0.8504 - val_loss: 1.0399 - val_accuracy: 0.8148 - lr: 5.3144e-04\n",
            "Epoch 20/50\n",
            "26/26 [==============================] - 1s 52ms/step - loss: 0.3914 - accuracy: 0.8461 - val_loss: 1.0073 - val_accuracy: 0.7852 - lr: 5.3144e-04\n",
            "Epoch 21/50\n",
            "26/26 [==============================] - 1s 51ms/step - loss: 0.4004 - accuracy: 0.8578 - val_loss: 0.9763 - val_accuracy: 0.8099 - lr: 5.3144e-04\n",
            "Epoch 22/50\n",
            "26/26 [==============================] - 1s 52ms/step - loss: 0.3098 - accuracy: 0.8900 - val_loss: 1.0590 - val_accuracy: 0.8321 - lr: 5.3144e-04\n",
            "Epoch 23/50\n",
            "26/26 [==============================] - 1s 54ms/step - loss: 0.3189 - accuracy: 0.8875 - val_loss: 1.1147 - val_accuracy: 0.8198 - lr: 5.3144e-04\n",
            "Epoch 24/50\n",
            "26/26 [==============================] - 1s 55ms/step - loss: 0.2706 - accuracy: 0.9048 - val_loss: 1.0810 - val_accuracy: 0.8395 - lr: 5.3144e-04\n",
            "Epoch 25/50\n",
            "26/26 [==============================] - 1s 57ms/step - loss: 0.2546 - accuracy: 0.9110 - val_loss: 1.0119 - val_accuracy: 0.8420 - lr: 5.3144e-04\n",
            "Epoch 26/50\n",
            "26/26 [==============================] - 1s 55ms/step - loss: 0.2278 - accuracy: 0.9178 - val_loss: 1.0541 - val_accuracy: 0.8370 - lr: 5.3144e-04\n",
            "Epoch 27/50\n",
            "26/26 [==============================] - 1s 51ms/step - loss: 0.2011 - accuracy: 0.9271 - val_loss: 1.1439 - val_accuracy: 0.8469 - lr: 4.7830e-04\n",
            "Epoch 28/50\n",
            "26/26 [==============================] - 1s 51ms/step - loss: 0.1602 - accuracy: 0.9376 - val_loss: 1.2622 - val_accuracy: 0.8370 - lr: 4.7830e-04\n",
            "Epoch 29/50\n",
            "26/26 [==============================] - 1s 50ms/step - loss: 0.1950 - accuracy: 0.9438 - val_loss: 1.2142 - val_accuracy: 0.8420 - lr: 4.7830e-04\n",
            "Epoch 30/50\n",
            "26/26 [==============================] - 1s 50ms/step - loss: 0.1530 - accuracy: 0.9450 - val_loss: 1.3238 - val_accuracy: 0.8469 - lr: 4.7830e-04\n",
            "Epoch 31/50\n",
            "26/26 [==============================] - 1s 51ms/step - loss: 0.1731 - accuracy: 0.9481 - val_loss: 1.2282 - val_accuracy: 0.8395 - lr: 4.7830e-04\n",
            "Epoch 32/50\n",
            "26/26 [==============================] - 1s 51ms/step - loss: 0.1397 - accuracy: 0.9567 - val_loss: 1.2677 - val_accuracy: 0.8444 - lr: 4.3047e-04\n",
            "Epoch 33/50\n",
            "26/26 [==============================] - 1s 51ms/step - loss: 0.1089 - accuracy: 0.9660 - val_loss: 1.2805 - val_accuracy: 0.8370 - lr: 4.3047e-04\n",
            "Epoch 34/50\n",
            "26/26 [==============================] - 1s 55ms/step - loss: 0.1230 - accuracy: 0.9586 - val_loss: 1.2622 - val_accuracy: 0.8469 - lr: 4.3047e-04\n",
            "Epoch 35/50\n",
            "26/26 [==============================] - 2s 58ms/step - loss: 0.0946 - accuracy: 0.9672 - val_loss: 1.2749 - val_accuracy: 0.8444 - lr: 4.3047e-04\n",
            "Epoch 36/50\n",
            "26/26 [==============================] - 1s 55ms/step - loss: 0.1524 - accuracy: 0.9524 - val_loss: 1.3352 - val_accuracy: 0.8370 - lr: 4.3047e-04\n",
            "Epoch 37/50\n",
            "26/26 [==============================] - 1s 55ms/step - loss: 0.1088 - accuracy: 0.9660 - val_loss: 1.2722 - val_accuracy: 0.8370 - lr: 3.8742e-04\n"
          ]
        }
      ],
      "source": [
        "# Train the model on hard data\n",
        "x_misclassified_train, x_misclassified_test, y_misclassified_train, y_misclassified_test = train_test_split(x_misclassified, y_misclassified, test_size=0.2)\n",
        "history_hard_data = custom_model.fit(x_misclassified_train,\n",
        "                                     y_misclassified_train,\n",
        "                                     batch_size=64,\n",
        "                                     epochs=50,\n",
        "                                     validation_data=(x_misclassified_test, y_misclassified_test),\n",
        "                                     callbacks=[custom_early_stopping, custom_reduce_learning_rate])\n"
      ]
    },
    {
      "cell_type": "code",
      "execution_count": 17,
      "metadata": {
        "colab": {
          "base_uri": "https://localhost:8080/"
        },
        "id": "4r4j4pYYlUqk",
        "outputId": "562f723d-f370-4aa5-c1ab-6f3f85db10bd"
      },
      "outputs": [
        {
          "name": "stdout",
          "output_type": "stream",
          "text": [
            "Epoch 1/50\n",
            "359/359 [==============================] - 22s 60ms/step - loss: 1.0649 - accuracy: 0.6233 - val_loss: 0.6726 - val_accuracy: 0.7736 - lr: 3.8742e-04\n",
            "Epoch 2/50\n",
            "359/359 [==============================] - 23s 64ms/step - loss: 1.0229 - accuracy: 0.6409 - val_loss: 0.7170 - val_accuracy: 0.7520 - lr: 3.8742e-04\n",
            "Epoch 3/50\n",
            "359/359 [==============================] - 23s 63ms/step - loss: 0.9918 - accuracy: 0.6476 - val_loss: 0.6884 - val_accuracy: 0.7647 - lr: 3.8742e-04\n",
            "Epoch 4/50\n",
            "359/359 [==============================] - 22s 61ms/step - loss: 0.9550 - accuracy: 0.6619 - val_loss: 0.6999 - val_accuracy: 0.7443 - lr: 3.8742e-04\n",
            "Epoch 5/50\n",
            "359/359 [==============================] - 22s 62ms/step - loss: 0.9398 - accuracy: 0.6698 - val_loss: 0.7036 - val_accuracy: 0.7421 - lr: 3.8742e-04\n",
            "Epoch 6/50\n",
            "359/359 [==============================] - 22s 60ms/step - loss: 0.9253 - accuracy: 0.6717 - val_loss: 0.7286 - val_accuracy: 0.7262 - lr: 3.8742e-04\n",
            "Epoch 7/50\n",
            "359/359 [==============================] - 22s 61ms/step - loss: 0.9147 - accuracy: 0.6805 - val_loss: 0.7250 - val_accuracy: 0.7409 - lr: 3.4868e-04\n",
            "Epoch 8/50\n",
            "359/359 [==============================] - 22s 61ms/step - loss: 0.8967 - accuracy: 0.6824 - val_loss: 0.7577 - val_accuracy: 0.7166 - lr: 3.4868e-04\n",
            "Epoch 9/50\n",
            "359/359 [==============================] - 23s 64ms/step - loss: 0.8869 - accuracy: 0.6855 - val_loss: 0.7216 - val_accuracy: 0.7443 - lr: 3.4868e-04\n",
            "Epoch 10/50\n",
            "359/359 [==============================] - 22s 61ms/step - loss: 0.8689 - accuracy: 0.6901 - val_loss: 0.7346 - val_accuracy: 0.7348 - lr: 3.4868e-04\n",
            "Epoch 11/50\n",
            "359/359 [==============================] - 22s 61ms/step - loss: 0.8659 - accuracy: 0.6940 - val_loss: 0.7335 - val_accuracy: 0.7323 - lr: 3.4868e-04\n"
          ]
        }
      ],
      "source": [
        "# Perform data augmentation\n",
        "custom_data_generator = ImageDataGenerator(featurewise_center=False,\n",
        "                                           featurewise_std_normalization=False,\n",
        "                                           rotation_range=10,\n",
        "                                           width_shift_range=0.1,\n",
        "                                           height_shift_range=0.1,\n",
        "                                           zoom_range=.1,\n",
        "                                           horizontal_flip=True)\n",
        "\n",
        "# Create a data generator flow\n",
        "data_flow = custom_data_generator.flow(x_train_split,\n",
        "                                       y_train_split,\n",
        "                                       batch_size=64)\n",
        "\n",
        "# Train the model again with augmented data to balance out\n",
        "history_data_augmentation = custom_model.fit(data_flow,\n",
        "                                             epochs=50,\n",
        "                                             validation_data=(x_test_split, y_test_split),\n",
        "                                             callbacks=[custom_early_stopping, custom_reduce_learning_rate])\n"
      ]
    },
    {
      "cell_type": "code",
      "execution_count": 18,
      "metadata": {
        "colab": {
          "base_uri": "https://localhost:8080/"
        },
        "id": "-hfn2wFflXsy",
        "outputId": "c70205e6-beac-4585-dfd0-076f07f8fd01"
      },
      "outputs": [
        {
          "name": "stdout",
          "output_type": "stream",
          "text": [
            "180/180 [==============================] - 2s 8ms/step - loss: 0.7335 - accuracy: 0.7323\n",
            "Accuracy after improvement: 0.7323232293128967\n"
          ]
        }
      ],
      "source": [
        "# Evaluate the model after improvement\n",
        "_, accuracy_after_improvement = custom_model.evaluate(x_test_split, y_test_split)\n",
        "print('Accuracy after improvement: {}'.format(accuracy_after_improvement))\n"
      ]
    },
    {
      "cell_type": "code",
      "execution_count": 19,
      "metadata": {
        "colab": {
          "base_uri": "https://localhost:8080/",
          "height": 525
        },
        "id": "ixeoGZPAlYLa",
        "outputId": "72b1c952-d552-4dad-ed3f-798ed9e27618"
      },
      "outputs": [
        {
          "name": "stdout",
          "output_type": "stream",
          "text": [
            "180/180 [==============================] - 1s 7ms/step\n"
          ]
        },
        {
          "data": {
            "image/png": "[encoded data removed]",
            "text/plain": [
              "<Figure size 640x480 with 1 Axes>"
            ]
          },
          "metadata": {},
          "output_type": "display_data"
        }
      ],
      "source": [
        "!pip install -U mlxtend > /dev/null 2>&1\n",
        "\n",
        "from mlxtend.plotting import plot_confusion_matrix\n",
        "from sklearn.metrics import confusion_matrix\n",
        "\n",
        "# Make predictions using the custom model\n",
        "predictions_custom = custom_model.predict(x_test_split)\n",
        "y_predict_custom = numpy.argmax(predictions_custom, axis=1)\n",
        "\n",
        "# Create confusion matrix\n",
        "conf_matrix_custom = confusion_matrix(y_test_split, y_predict_custom)\n",
        "\n",
        "# Display confusion matrix\n",
        "class_names_custom = ['Angry', 'Disgust', 'Fear', 'Happy', 'Sad', 'Surprise', 'Neutral']\n",
        "fig_custom, ax_custom = plot_confusion_matrix(conf_mat=conf_matrix_custom, class_names=class_names_custom)\n",
        "plt.title('Confusion Matrix')\n",
        "plt.show()\n"
      ]
    },
    {
      "cell_type": "code",
      "execution_count": 21,
      "metadata": {
        "id": "3VuBHzsdlf5P"
      },
      "outputs": [],
      "source": [
        "from tensorflow.keras.preprocessing import image\n",
        "\n",
        "def predict_facial_expression(image_path):\n",
        "    \"\"\"Predict facial expression for image\"\"\"\n",
        "    # Open image\n",
        "    grayscale_image = image.load_img(path=image_path,\n",
        "                                     color_mode='grayscale',\n",
        "                                     target_size=(48, 48))\n",
        "    # Convert to array\n",
        "    grayscale_array = image.img_to_array(grayscale_image)\n",
        "    grayscale_array = numpy.expand_dims(grayscale_array, axis=0)\n",
        "\n",
        "    # Show image\n",
        "    grayscale_display = numpy.array(grayscale_array, 'float32')\n",
        "    grayscale_display = grayscale_display.reshape([48, 48]);\n",
        "    plt.imshow(grayscale_display, cmap='gray')\n",
        "    plt.show()\n",
        "\n",
        "    # Make predictions\n",
        "    grayscale_array = grayscale_array / 255.0\n",
        "    prediction = custom_model.predict(grayscale_array)\n",
        "\n",
        "    # Draw the histogram\n",
        "    plt.bar(y_positions, prediction[0], align='center', alpha=0.5)\n",
        "    plt.xticks(y_positions, emotion_categories)\n",
        "    plt.ylabel('Percentage')\n",
        "    plt.title('Facial Expression Prediction')\n",
        "    plt.show()\n"
      ]
    },
    {
      "cell_type": "code",
      "execution_count": null,
      "metadata": {
        "id": "oaSGA4URRcG2"
      },
      "outputs": [],
      "source": [
        "import pandas as pd\n",
        "\n",
        "df = pd.read_csv('train.csv')"
      ]
    },
    {
      "cell_type": "code",
      "execution_count": null,
      "metadata": {},
      "outputs": [],
      "source": [
        "# Load your CSV file (replace 'your_dataset.csv' with the actual file path)\n",
        "import cv2\n",
        "import numpy as np\n",
        "\n",
        "\n",
        "def predict_facial_expression_from_csv(csv_row):\n",
        "    \"\"\"Predict facial expression for an image represented by a CSV row and visualize CAM\"\"\"\n",
        "    # Extract pixel values from the CSV row\n",
        "    pixels_str = csv_row[1]\n",
        "    pixels_list = [int(i) for i in pixels_str.split(' ')]\n",
        "    pixels_array = np.array(pixels_list, dtype='uint8').reshape((48, 48, 1))\n",
        "\n",
        "    # Show image\n",
        "    plt.imshow(pixels_array[:, :, 0], cmap='gray')\n",
        "    plt.show()\n",
        "\n",
        "    # Expand dimensions and normalize the pixel values\n",
        "    pixels_array = np.expand_dims(pixels_array, axis=0) / 255.0\n",
        "\n",
        "    # Make predictions\n",
        "    predictions = custom_model.predict(pixels_array)\n",
        "    predicted_class = np.argmax(predictions)\n",
        "\n",
        "    # Get the CAM\n",
        "    with tf.GradientTape() as tape:\n",
        "        conv_output, predictions = cam_model(pixels_array)\n",
        "        target_class_output = predictions[:, predicted_class]\n",
        "\n",
        "    # Get the gradient of the target class with respect to the output feature map\n",
        "    grads = tape.gradient(target_class_output, conv_output)\n",
        "    pooled_grads = tf.reduce_mean(grads, axis=(0, 1, 2))\n",
        "\n",
        "    # Multiply each channel in the feature map by \"how important this channel is\" with regard to the target class\n",
        "    heatmap = tf.reduce_mean(conv_output * tf.expand_dims(pooled_grads, axis=0), axis=-1)\n",
        "\n",
        "    # Normalize the heatmap\n",
        "    heatmap = tf.maximum(heatmap, 0) / tf.math.reduce_max(heatmap)\n",
        "\n",
        "    # Resize the heatmap to match the dimensions of the grayscale image\n",
        "    heatmap_resized = cv2.resize(heatmap.numpy(), (pixels_array.shape[2], pixels_array.shape[1]))\n",
        "\n",
        "    # Apply colormap to the resized heatmap\n",
        "    heatmap_colored = plt.get_cmap('jet')(heatmap_resized)\n",
        "\n",
        "    # Convert the superimposed image to the correct format\n",
        "    grayscale_img = pixels_array[0][:, :, 0]  # Extract the grayscale image\n",
        "\n",
        "    # Ensure both images have the same dimensions\n",
        "    heatmap_colored_resized = cv2.resize(heatmap_colored[:, :, :3], (grayscale_img.shape[1], grayscale_img.shape[0]))\n",
        "\n",
        "    # Combine the images\n",
        "    superimposed_img = grayscale_img + 0.6 * heatmap_colored_resized\n",
        "\n",
        "    # Display the superimposed image\n",
        "    plt.imshow(superimposed_img, cmap='gray')\n",
        "    plt.show()\n",
        "\n",
        "    # Draw the histogram\n",
        "    plt.bar(y_positions, predictions[0], align='center', alpha=0.5)\n",
        "    plt.xticks(y_positions, emotion_categories)\n",
        "    plt.ylabel('Percentage')\n",
        "    plt.title('Facial Expression Prediction')\n",
        "    plt.show()\n",
        "\n",
        "# Example usage:\n",
        "# Assuming df is your DataFrame containing the CSV data\n",
        "for index, row in df.iterrows():\n",
        "    predict_facial_expression_from_csv(row)\n"
      ]
    }
  ],
  "metadata": {
    "accelerator": "GPU",
    "colab": {
      "gpuType": "T4",
      "provenance": []
    },
    "kernelspec": {
      "display_name": "Python 3",
      "name": "python3"
    },
    "language_info": {
      "name": "python"
    }
  },
  "nbformat": 4,
  "nbformat_minor": 0
}
